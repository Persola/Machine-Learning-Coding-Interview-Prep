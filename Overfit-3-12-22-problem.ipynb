{
 "cells": [
  {
   "cell_type": "markdown",
   "id": "f1ad1866",
   "metadata": {},
   "source": [
    "# Title: Did my model overfit?"
   ]
  },
  {
   "cell_type": "code",
   "execution_count": 3,
   "id": "ff51b597",
   "metadata": {},
   "outputs": [],
   "source": [
    "import numpy as np\n",
    "import matplotlib.pyplot as plt\n",
    "\n",
    "%matplotlib inline"
   ]
  },
  {
   "cell_type": "markdown",
   "id": "7362df29",
   "metadata": {},
   "source": [
    "# Data Generation"
   ]
  },
  {
   "cell_type": "code",
   "execution_count": 5,
   "id": "e1d20a84",
   "metadata": {},
   "outputs": [],
   "source": [
    "Npts = 100\n",
    "Ndim = 100\n",
    "X_train = np.random.normal(0, 1, (Npts, Ndim))\n",
    "a0 = np.zeros(Ndim)\n",
    "a0[[13, 26, 71]] = np.random.uniform(-1, 1, 3)\n",
    "y0 = X_train @ a0\n",
    "noise = np.random.normal(0, 1e-1, Npts)\n",
    "Y_train = y0 + noise\n",
    "\n",
    "X_test = np.random.normal(0, 1, (Npts, Ndim))\n",
    "y0_test = X_test @ a0\n",
    "Y_test = y0_test + np.random.normal(0, 1e-1, Npts)"
   ]
  },
  {
   "cell_type": "code",
   "execution_count": 6,
   "id": "01375fc7",
   "metadata": {},
   "outputs": [],
   "source": [
    "def compute_weight(X, Y):\n",
    "    return np.linalg.lstsq(X, Y, rcond=None)[0]"
   ]
  },
  {
   "cell_type": "code",
   "execution_count": 7,
   "id": "1c10ac41",
   "metadata": {},
   "outputs": [],
   "source": [
    "a = compute_weight(X_train, Y_train)"
   ]
  },
  {
   "cell_type": "markdown",
   "id": "99255a18",
   "metadata": {},
   "source": [
    "# Problem Statement\n",
    "* As a data scientist, you are given an eqution `Y = a @ X` and you need to solve for `a` given `X` and `Y`.  `X` is in the shape of 100 x 100 where the sample size and dimensions are both 100. `a0` is the ground-truth model weights for the given `X` and `Y`. `Y` is the result of `a0 * X`. The `compute_weight` function is given and with that you can compute weights `a` with `X` and `Y`.\n"
   ]
  },
  {
   "cell_type": "markdown",
   "id": "207acf13",
   "metadata": {},
   "source": [
    "## Problem 1\n",
    "* The following plot shows when you solve for `a` how it's different from your ground truth `a0`. Explain the graph."
   ]
  },
  {
   "cell_type": "code",
   "execution_count": 8,
   "id": "6831d968",
   "metadata": {},
   "outputs": [
    {
     "data": {
      "text/plain": [
       "<matplotlib.legend.Legend at 0x123c10090>"
      ]
     },
     "execution_count": 8,
     "metadata": {},
     "output_type": "execute_result"
    },
    {
     "data": {
      "image/png": "[encoded data removed]",
      "text/plain": [
       "<Figure size 640x480 with 1 Axes>"
      ]
     },
     "metadata": {},
     "output_type": "display_data"
    }
   ],
   "source": [
    "plt.plot(Y_test, \".\", label='Y_test')\n",
    "plt.plot(X_test @ a, \".\", label='X_test@a')\n",
    "plt.legend(loc=0)"
   ]
  },
  {
   "cell_type": "markdown",
   "id": "428cc8f6",
   "metadata": {},
   "source": [
    "## Problem 2\n",
    "* How will you validate your explanation of `Problem 1`? Predict your model `a`'s error rate on unseen test data."
   ]
  },
  {
   "cell_type": "code",
   "execution_count": 9,
   "id": "356e3cc9",
   "metadata": {},
   "outputs": [],
   "source": [
    "shuffled = np.random.choice(np.arange(Npts), Npts, replace=False)"
   ]
  },
  {
   "cell_type": "code",
   "execution_count": 10,
   "id": "23121826",
   "metadata": {},
   "outputs": [],
   "source": [
    "def compute_mse(a, X, Y):\n",
    "    return np.mean((X@a - Y)**2)"
   ]
  },
  {
   "cell_type": "code",
   "execution_count": 14,
   "id": "562ee9dc",
   "metadata": {},
   "outputs": [],
   "source": [
    "def k_fold_cross_validation(X, Y, k=3):\n",
    "    # TODO\n",
    "    a = compute_weight(X_train, Y_train)\n",
    "    error = compute_mse(a, X_train, Y_train)\n",
    "    pass\n",
    "\n",
    "\n",
    "k_fold_cross_validation(X_train[shuffled], Y_train[shuffled])"
   ]
  },
  {
   "cell_type": "markdown",
   "id": "27451a8b",
   "metadata": {},
   "source": [
    "* K-fold cross validation is **a resampling procedure used to evaluate machine learning models on a limited data sample.**\n",
    "<img src=\"https://scikit-learn.org/stable/_images/grid_search_cross_validation.png\"  width=\"500\" height=\"600\">"
   ]
  },
  {
   "cell_type": "markdown",
   "id": "cd3f3d59",
   "metadata": {},
   "source": [
    "# References\n",
    "* https://scikit-learn.org/stable/_images/grid_search_cross_validation.png\n",
    "* https://machinelearningmastery.com/k-fold-cross-validation/"
   ]
  },
  {
   "cell_type": "code",
   "execution_count": null,
   "id": "0c0a7d9a",
   "metadata": {},
   "outputs": [],
   "source": []
  }
 ],
 "metadata": {
  "kernelspec": {
   "display_name": "Python 3 (ipykernel)",
   "language": "python",
   "name": "python3"
  },
  "language_info": {
   "codemirror_mode": {
    "name": "ipython",
    "version": 3
   },
   "file_extension": ".py",
   "mimetype": "text/x-python",
   "name": "python",
   "nbconvert_exporter": "python",
   "pygments_lexer": "ipython3",
   "version": "3.11.2"
  }
 },
 "nbformat": 4,
 "nbformat_minor": 5
}
