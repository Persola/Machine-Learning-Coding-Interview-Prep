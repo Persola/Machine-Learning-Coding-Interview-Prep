{
 "cells": [
  {
   "cell_type": "code",
   "execution_count": 31,
   "id": "0999c2f6",
   "metadata": {},
   "outputs": [],
   "source": [
    "import numpy as np\n",
    "import matplotlib.pyplot as plt\n",
    "\n",
    "%matplotlib inline\n",
    "\n",
    "def make_data_1():\n",
    "    return np.random.normal(0.1, 1, 10000)\n",
    "\n",
    "def make_data_2():\n",
    "    a = np.random.normal(-0.9, 0.4, 5000)\n",
    "    b = np.random.normal(1.1, 0.4, 5000)\n",
    "    y = np.concatenate((a, b))\n",
    "    np.random.shuffle(y)\n",
    "    return y"
   ]
  },
  {
   "cell_type": "markdown",
   "id": "1bbac64b",
   "metadata": {},
   "source": [
    "## Question\n",
    "\n",
    "Suppose two different machines at a factory are both used to cut pipe to a certain length. They are never perfect; there is always some error in the length they cut. You've collected errors (in millimeters) from the two machines in arrays $Y$ and $Z$. How do you determine if the distribution of errors is different? If a coworker disagrees with you, how can you quantitatively support your hypothesis?\n",
    "\n",
    "Use the provided data to demonstrate your method."
   ]
  },
  {
   "cell_type": "code",
   "execution_count": 32,
   "id": "dfd53a6c",
   "metadata": {},
   "outputs": [],
   "source": [
    "Y = make_data_1()\n",
    "Z = make_data_2()"
   ]
  },
  {
   "cell_type": "markdown",
   "id": "b9dcae0b",
   "metadata": {},
   "source": [
    "### Answer\n",
    "\n",
    "We can use the CDFs of $Y$ and $Z$ to answer the question. (Histograms or q-q plots are also appropriate). In practice, you can start by plotting them both; if the CDFs look different, the distributions are probably different."
   ]
  },
  {
   "cell_type": "code",
   "execution_count": 37,
   "id": "983ecd40",
   "metadata": {},
   "outputs": [],
   "source": [
    "def cdf(Y):\n",
    "    sorted_Y = np.sort(Y)\n",
    "    return sorted_Y, np.linspace(0, 1, len(Y))"
   ]
  },
  {
   "cell_type": "code",
   "execution_count": 38,
   "id": "02850432",
   "metadata": {},
   "outputs": [],
   "source": [
    "xxY, CY = cdf(Y)\n",
    "xxZ, CZ = cdf(Z)"
   ]
  },
  {
   "cell_type": "code",
   "execution_count": 39,
   "id": "aac07dd4",
   "metadata": {},
   "outputs": [
    {
     "data": {
      "text/plain": [
       "[<matplotlib.lines.Line2D at 0x10ecb4cd0>]"
      ]
     },
     "execution_count": 39,
     "metadata": {},
     "output_type": "execute_result"
    },
    {
     "data": {
      "image/png": "[encoded data removed]",
      "text/plain": [
       "<Figure size 640x480 with 1 Axes>"
      ]
     },
     "metadata": {},
     "output_type": "display_data"
    }
   ],
   "source": [
    "plt.plot(xxY, CY)\n",
    "plt.plot(xxZ, CZ)"
   ]
  },
  {
   "cell_type": "markdown",
   "id": "13366880",
   "metadata": {},
   "source": [
    "The *Kolmogorov-Smirnov (KS) test* is one way to quantify this idea. To do the KS test, find the $x$ where the CDFs of $Y$ and $Z$ are the furthest apart; the absolute difference in CDFs at this point is the KS statistic. The higher the statistic, the less likely $Y$ and $Z$ are to have come from the same distribution.\n",
    "\n",
    "There are other variations on this idea that also can work; the KS test isn't the only good option."
   ]
  },
  {
   "cell_type": "code",
   "execution_count": 40,
   "id": "3e96c7ca",
   "metadata": {},
   "outputs": [],
   "source": [
    "def ks(Y, Z):\n",
    "    xmin = min(min(Y), min(Z))\n",
    "    xmax = max(max(Y), max(Z))\n",
    "    K = max(len(Y), len(Z))\n",
    "    xx = np.linspace(xmin, xmax, K)\n",
    "    sorted_Y = np.sort(Y)\n",
    "    CY = np.searchsorted(sorted_Y, xx) / K\n",
    "    sorted_Z = np.sort(Z)\n",
    "    CZ = np.searchsorted(sorted_Z, xx) / K\n",
    "    return np.max(np.abs(CY - CZ))"
   ]
  },
  {
   "cell_type": "code",
   "execution_count": 41,
   "id": "d4e26424",
   "metadata": {},
   "outputs": [
    {
     "data": {
      "text/plain": [
       "0.1526"
      ]
     },
     "execution_count": 41,
     "metadata": {},
     "output_type": "execute_result"
    }
   ],
   "source": [
    "ks(Y, Z)"
   ]
  },
  {
   "cell_type": "markdown",
   "id": "e65460ca",
   "metadata": {},
   "source": [
    "There is a formula that lets you use the KS test formally, rejecting the hypothesis that $Y$ and $Z$ come from the same different distribution at a given level, etc., but it isn't required to remember how to do that on an interview. It's OK just to get the main idea.\n",
    "\n",
    "The formal hypothesis test is nice when people don't agree if it's different or not, and you need a way to get at the truth impartially."
   ]
  },
  {
   "cell_type": "code",
   "execution_count": null,
   "id": "7db6212b",
   "metadata": {},
   "outputs": [],
   "source": []
  }
 ],
 "metadata": {
  "kernelspec": {
   "display_name": "Python 3 (ipykernel)",
   "language": "python",
   "name": "python3"
  },
  "language_info": {
   "codemirror_mode": {
    "name": "ipython",
    "version": 3
   },
   "file_extension": ".py",
   "mimetype": "text/x-python",
   "name": "python",
   "nbconvert_exporter": "python",
   "pygments_lexer": "ipython3",
   "version": "3.9.12"
  }
 },
 "nbformat": 4,
 "nbformat_minor": 5
}
