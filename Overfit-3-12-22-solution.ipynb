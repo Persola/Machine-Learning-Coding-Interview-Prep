{
 "cells": [
  {
   "cell_type": "markdown",
   "id": "f1ad1866",
   "metadata": {},
   "source": [
    "# Did my model overfit?"
   ]
  },
  {
   "cell_type": "code",
   "execution_count": 2,
   "id": "ff51b597",
   "metadata": {},
   "outputs": [],
   "source": [
    "import numpy as np\n",
    "import matplotlib.pyplot as plt\n",
    "\n",
    "%matplotlib inline"
   ]
  },
  {
   "cell_type": "markdown",
   "id": "7362df29",
   "metadata": {},
   "source": [
    "# Data Generation"
   ]
  },
  {
   "cell_type": "code",
   "execution_count": 74,
   "id": "e1d20a84",
   "metadata": {},
   "outputs": [],
   "source": [
    "Npts = 200\n",
    "Ndim = 100\n",
    "def make_data(Npts, Ndim):\n",
    "    X = np.random.normal(0, 1, (Npts, Ndim))\n",
    "    a0 = np.zeros(Ndim)\n",
    "    a0[[13, 26, 71]] = np.random.uniform(-1, 1, 3)\n",
    "    y0 = X @ a0\n",
    "    y0 += 0.1*y0**2\n",
    "    noise = np.random.normal(0, 1e-2, Npts)\n",
    "    Y = y0 + noise\n",
    "    return X, Y\n",
    "\n",
    "X_train, Y_train = make_data(Npts, Ndim)"
   ]
  },
  {
   "cell_type": "code",
   "execution_count": 75,
   "id": "01375fc7",
   "metadata": {},
   "outputs": [],
   "source": [
    "def compute_weight(X, Y):\n",
    "    return np.linalg.lstsq(X, Y, rcond=None)[0]"
   ]
  },
  {
   "cell_type": "code",
   "execution_count": 76,
   "id": "1c10ac41",
   "metadata": {},
   "outputs": [],
   "source": [
    "a_train = compute_weight(X_train, Y_train)"
   ]
  },
  {
   "cell_type": "code",
   "execution_count": 77,
   "id": "39bee441",
   "metadata": {},
   "outputs": [
    {
     "data": {
      "text/plain": [
       "0.004552459051497817"
      ]
     },
     "execution_count": 77,
     "metadata": {},
     "output_type": "execute_result"
    }
   ],
   "source": [
    "np.mean((X_train @ a_train - Y_train)**2)"
   ]
  },
  {
   "cell_type": "code",
   "execution_count": 78,
   "id": "9bb035d8",
   "metadata": {},
   "outputs": [],
   "source": [
    "X_test, Y_test = make_data(Npts, Ndim)"
   ]
  },
  {
   "cell_type": "code",
   "execution_count": 79,
   "id": "b0198e31",
   "metadata": {},
   "outputs": [
    {
     "data": {
      "text/plain": [
       "1.818294692330531"
      ]
     },
     "execution_count": 79,
     "metadata": {},
     "output_type": "execute_result"
    }
   ],
   "source": [
    "np.mean((X_test @ a_train - Y_test)**2)"
   ]
  },
  {
   "cell_type": "markdown",
   "id": "99255a18",
   "metadata": {},
   "source": [
    "# Problem Statement\n",
    "* As a data scientist, you are given an eqution `Y = a @ X` and you need to solve for `a` given `X` and `Y`.  `X` is in the shape of 100 x 100 where the sample size and dimensions are both 100. `a0` is the ground-truth model weights for the given `X` and `Y`. `Y` is the result of `a0 * X`. The `compute_weight` function is given and with that you can compute weights `a` with `X` and `Y`.\n"
   ]
  },
  {
   "cell_type": "markdown",
   "id": "207acf13",
   "metadata": {},
   "source": [
    "## Problem 1\n",
    "* The following plot shows when you solve for `a` how it's different from your ground truth `a0`. Explain the graph."
   ]
  },
  {
   "cell_type": "code",
   "execution_count": 6,
   "id": "6831d968",
   "metadata": {},
   "outputs": [
    {
     "data": {
      "text/plain": [
       "<matplotlib.legend.Legend at 0x1239a83d0>"
      ]
     },
     "execution_count": 6,
     "metadata": {},
     "output_type": "execute_result"
    },
    {
     "data": {
      "image/png": "[encoded data removed]",
      "text/plain": [
       "<Figure size 640x480 with 1 Axes>"
      ]
     },
     "metadata": {},
     "output_type": "display_data"
    }
   ],
   "source": [
    "plt.plot(Y_test, \".\", label='Y_test')\n",
    "plt.plot(X_test @ a, \".\", label='X_test@a')\n",
    "plt.legend(loc=0)"
   ]
  },
  {
   "cell_type": "markdown",
   "id": "78672219",
   "metadata": {},
   "source": [
    "## Answer to Problem 1\n",
    "* `a` has overfit and it's quite different from the ground truth `a0`."
   ]
  },
  {
   "cell_type": "markdown",
   "id": "428cc8f6",
   "metadata": {},
   "source": [
    "## Problem 2\n",
    "* How will you validate your explanation of `Problem 1`? Predict your model `a`'s error rate on unseen test data."
   ]
  },
  {
   "cell_type": "code",
   "execution_count": 12,
   "id": "356e3cc9",
   "metadata": {},
   "outputs": [],
   "source": [
    "shuffled = np.random.choice(np.arange(Npts), Npts, replace=False)"
   ]
  },
  {
   "cell_type": "code",
   "execution_count": 13,
   "id": "23121826",
   "metadata": {},
   "outputs": [],
   "source": [
    "def compute_mse(a, X, Y):\n",
    "    return np.mean((X@a - Y)**2)"
   ]
  },
  {
   "cell_type": "code",
   "execution_count": 92,
   "id": "562ee9dc",
   "metadata": {},
   "outputs": [
    {
     "data": {
      "text/plain": [
       "[array([0.05530123, 0.04679666, 0.03539236]), 1.818294692330531]"
      ]
     },
     "execution_count": 92,
     "metadata": {},
     "output_type": "execute_result"
    }
   ],
   "source": [
    "def k_fold_cross_validation(X, Y, k=3):\n",
    "    start = 0\n",
    "    total = len(X)\n",
    "    errors = []\n",
    "    for i in range(k):\n",
    "        val_X = X[start:start+(total//k)]\n",
    "        train_X = np.concatenate([\n",
    "            X[:start], X[start+(total//k):]\n",
    "        ])\n",
    "        val_Y = Y[start:start+(total//k)]\n",
    "        train_Y = np.concatenate([\n",
    "            Y[:start], Y[start+(total//k):]\n",
    "        ])\n",
    "        a = compute_weight(train_X, train_Y)\n",
    "        error = compute_mse(a, val_X, val_Y)\n",
    "        errors.append(error)\n",
    "        start = start+(total//k)\n",
    "        \n",
    "    return np.array(errors)\n",
    "\n",
    "\n",
    "[k_fold_cross_validation(X_train, Y_train, 3),\n",
    " compute_mse(a_train, X_test, Y_test)\n",
    "]"
   ]
  },
  {
   "cell_type": "code",
   "execution_count": 41,
   "id": "948547e0",
   "metadata": {},
   "outputs": [],
   "source": [
    "import sklearn.linear_model"
   ]
  },
  {
   "cell_type": "code",
   "execution_count": 86,
   "id": "e9bdb6a9",
   "metadata": {},
   "outputs": [],
   "source": [
    "lr = sklearn.linear_model.LinearRegression(fit_intercept=False)"
   ]
  },
  {
   "cell_type": "code",
   "execution_count": 87,
   "id": "b6e7709e",
   "metadata": {},
   "outputs": [
    {
     "data": {
      "text/html": [
       "<style>#sk-container-id-4 {color: black;background-color: white;}#sk-container-id-4 pre{padding: 0;}#sk-container-id-4 div.sk-toggleable {background-color: white;}#sk-container-id-4 label.sk-toggleable__label {cursor: pointer;display: block;width: 100%;margin-bottom: 0;padding: 0.3em;box-sizing: border-box;text-align: center;}#sk-container-id-4 label.sk-toggleable__label-arrow:before {content: \"▸\";float: left;margin-right: 0.25em;color: #696969;}#sk-container-id-4 label.sk-toggleable__label-arrow:hover:before {color: black;}#sk-container-id-4 div.sk-estimator:hover label.sk-toggleable__label-arrow:before {color: black;}#sk-container-id-4 div.sk-toggleable__content {max-height: 0;max-width: 0;overflow: hidden;text-align: left;background-color: #f0f8ff;}#sk-container-id-4 div.sk-toggleable__content pre {margin: 0.2em;color: black;border-radius: 0.25em;background-color: #f0f8ff;}#sk-container-id-4 input.sk-toggleable__control:checked~div.sk-toggleable__content {max-height: 200px;max-width: 100%;overflow: auto;}#sk-container-id-4 input.sk-toggleable__control:checked~label.sk-toggleable__label-arrow:before {content: \"▾\";}#sk-container-id-4 div.sk-estimator input.sk-toggleable__control:checked~label.sk-toggleable__label {background-color: #d4ebff;}#sk-container-id-4 div.sk-label input.sk-toggleable__control:checked~label.sk-toggleable__label {background-color: #d4ebff;}#sk-container-id-4 input.sk-hidden--visually {border: 0;clip: rect(1px 1px 1px 1px);clip: rect(1px, 1px, 1px, 1px);height: 1px;margin: -1px;overflow: hidden;padding: 0;position: absolute;width: 1px;}#sk-container-id-4 div.sk-estimator {font-family: monospace;background-color: #f0f8ff;border: 1px dotted black;border-radius: 0.25em;box-sizing: border-box;margin-bottom: 0.5em;}#sk-container-id-4 div.sk-estimator:hover {background-color: #d4ebff;}#sk-container-id-4 div.sk-parallel-item::after {content: \"\";width: 100%;border-bottom: 1px solid gray;flex-grow: 1;}#sk-container-id-4 div.sk-label:hover label.sk-toggleable__label {background-color: #d4ebff;}#sk-container-id-4 div.sk-serial::before {content: \"\";position: absolute;border-left: 1px solid gray;box-sizing: border-box;top: 0;bottom: 0;left: 50%;z-index: 0;}#sk-container-id-4 div.sk-serial {display: flex;flex-direction: column;align-items: center;background-color: white;padding-right: 0.2em;padding-left: 0.2em;position: relative;}#sk-container-id-4 div.sk-item {position: relative;z-index: 1;}#sk-container-id-4 div.sk-parallel {display: flex;align-items: stretch;justify-content: center;background-color: white;position: relative;}#sk-container-id-4 div.sk-item::before, #sk-container-id-4 div.sk-parallel-item::before {content: \"\";position: absolute;border-left: 1px solid gray;box-sizing: border-box;top: 0;bottom: 0;left: 50%;z-index: -1;}#sk-container-id-4 div.sk-parallel-item {display: flex;flex-direction: column;z-index: 1;position: relative;background-color: white;}#sk-container-id-4 div.sk-parallel-item:first-child::after {align-self: flex-end;width: 50%;}#sk-container-id-4 div.sk-parallel-item:last-child::after {align-self: flex-start;width: 50%;}#sk-container-id-4 div.sk-parallel-item:only-child::after {width: 0;}#sk-container-id-4 div.sk-dashed-wrapped {border: 1px dashed gray;margin: 0 0.4em 0.5em 0.4em;box-sizing: border-box;padding-bottom: 0.4em;background-color: white;}#sk-container-id-4 div.sk-label label {font-family: monospace;font-weight: bold;display: inline-block;line-height: 1.2em;}#sk-container-id-4 div.sk-label-container {text-align: center;}#sk-container-id-4 div.sk-container {/* jupyter's `normalize.less` sets `[hidden] { display: none; }` but bootstrap.min.css set `[hidden] { display: none !important; }` so we also need the `!important` here to be able to override the default hidden behavior on the sphinx rendered scikit-learn.org. See: https://github.com/scikit-learn/scikit-learn/issues/21755 */display: inline-block !important;position: relative;}#sk-container-id-4 div.sk-text-repr-fallback {display: none;}</style><div id=\"sk-container-id-4\" class=\"sk-top-container\"><div class=\"sk-text-repr-fallback\"><pre>LinearRegression(fit_intercept=False)</pre><b>In a Jupyter environment, please rerun this cell to show the HTML representation or trust the notebook. <br />On GitHub, the HTML representation is unable to render, please try loading this page with nbviewer.org.</b></div><div class=\"sk-container\" hidden><div class=\"sk-item\"><div class=\"sk-estimator sk-toggleable\"><input class=\"sk-toggleable__control sk-hidden--visually\" id=\"sk-estimator-id-4\" type=\"checkbox\" checked><label for=\"sk-estimator-id-4\" class=\"sk-toggleable__label sk-toggleable__label-arrow\">LinearRegression</label><div class=\"sk-toggleable__content\"><pre>LinearRegression(fit_intercept=False)</pre></div></div></div></div></div>"
      ],
      "text/plain": [
       "LinearRegression(fit_intercept=False)"
      ]
     },
     "execution_count": 87,
     "metadata": {},
     "output_type": "execute_result"
    }
   ],
   "source": [
    "lr.fit(X_train, Y_train)"
   ]
  },
  {
   "cell_type": "code",
   "execution_count": 88,
   "id": "ccbc0ca1",
   "metadata": {},
   "outputs": [
    {
     "data": {
      "text/plain": [
       "array([0., 0., 0., 0., 0., 0., 0., 0., 0., 0., 0., 0., 0., 0., 0., 0., 0.,\n",
       "       0., 0., 0., 0., 0., 0., 0., 0., 0., 0., 0., 0., 0., 0., 0., 0., 0.,\n",
       "       0., 0., 0., 0., 0., 0., 0., 0., 0., 0., 0., 0., 0., 0., 0., 0., 0.,\n",
       "       0., 0., 0., 0., 0., 0., 0., 0., 0., 0., 0., 0., 0., 0., 0., 0., 0.,\n",
       "       0., 0., 0., 0., 0., 0., 0., 0., 0., 0., 0., 0., 0., 0., 0., 0., 0.,\n",
       "       0., 0., 0., 0., 0., 0., 0., 0., 0., 0., 0., 0., 0., 0., 0.])"
      ]
     },
     "execution_count": 88,
     "metadata": {},
     "output_type": "execute_result"
    }
   ],
   "source": [
    "lr.coef_ - a_train"
   ]
  },
  {
   "cell_type": "code",
   "execution_count": 82,
   "id": "07ba80d3",
   "metadata": {},
   "outputs": [],
   "source": [
    "import sklearn.model_selection"
   ]
  },
  {
   "cell_type": "code",
   "execution_count": 89,
   "id": "490c51eb",
   "metadata": {},
   "outputs": [],
   "source": [
    "ycv = sklearn.model_selection.cross_val_predict(lr, X_train, Y_train)"
   ]
  },
  {
   "cell_type": "code",
   "execution_count": 90,
   "id": "1b428129",
   "metadata": {},
   "outputs": [
    {
     "data": {
      "text/plain": [
       "0.02322043021620387"
      ]
     },
     "execution_count": 90,
     "metadata": {},
     "output_type": "execute_result"
    }
   ],
   "source": [
    "np.mean((ycv - Y_train)**2)"
   ]
  },
  {
   "cell_type": "code",
   "execution_count": 35,
   "id": "772f85fa",
   "metadata": {},
   "outputs": [],
   "source": [
    "a80 = compute_weight(X_train[:160], Y_train[:160])"
   ]
  },
  {
   "cell_type": "code",
   "execution_count": 37,
   "id": "b9736044",
   "metadata": {},
   "outputs": [
    {
     "data": {
      "text/plain": [
       "0.019949144972218745"
      ]
     },
     "execution_count": 37,
     "metadata": {},
     "output_type": "execute_result"
    }
   ],
   "source": [
    "compute_mse(a80, X_train[:160], Y_train[:160])"
   ]
  },
  {
   "cell_type": "code",
   "execution_count": 40,
   "id": "a4857765",
   "metadata": {},
   "outputs": [
    {
     "data": {
      "text/plain": [
       "0.1522367512439903"
      ]
     },
     "execution_count": 40,
     "metadata": {},
     "output_type": "execute_result"
    }
   ],
   "source": [
    "compute_mse(a80, X_train[160:], Y_train[160:])"
   ]
  },
  {
   "cell_type": "markdown",
   "id": "27451a8b",
   "metadata": {},
   "source": [
    "* K-fold cross validation is **a resampling procedure used to evaluate machine learning models on a limited data sample.**\n",
    "<img src=\"https://scikit-learn.org/stable/_images/grid_search_cross_validation.png\"  width=\"500\" height=\"600\">"
   ]
  },
  {
   "cell_type": "markdown",
   "id": "cd3f3d59",
   "metadata": {},
   "source": [
    "# References\n",
    "* https://scikit-learn.org/stable/_images/grid_search_cross_validation.png\n",
    "* https://machinelearningmastery.com/k-fold-cross-validation/"
   ]
  },
  {
   "cell_type": "code",
   "execution_count": null,
   "id": "0c0a7d9a",
   "metadata": {},
   "outputs": [],
   "source": []
  }
 ],
 "metadata": {
  "kernelspec": {
   "display_name": "Python 3 (ipykernel)",
   "language": "python",
   "name": "python3"
  },
  "language_info": {
   "codemirror_mode": {
    "name": "ipython",
    "version": 3
   },
   "file_extension": ".py",
   "mimetype": "text/x-python",
   "name": "python",
   "nbconvert_exporter": "python",
   "pygments_lexer": "ipython3",
   "version": "3.9.12"
  }
 },
 "nbformat": 4,
 "nbformat_minor": 5
}
