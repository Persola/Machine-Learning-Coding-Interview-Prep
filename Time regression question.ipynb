{
 "cells": [
  {
   "cell_type": "markdown",
   "id": "2795dc40",
   "metadata": {},
   "source": [
    "# When do the biggest fish bite?\n",
    "\n",
    "You're an avid fisher. In the past year, you caught exactly $N = 1000$ fish and to celebrate the achievement you've decided to develop a statistical model that relates the weight $x$ of the fish to the time of day when you caught it. Specifically, each time you caught a fish you recorded the UNIX timestamp of that event into an array $T$, and its weight in grams into an array $X$. You want to regress fish weight on time of day caught, given the data $T, X$ you captured.\n",
    "\n",
    "Develop a model that takes a timestamp as input, and returns the expected weight of a fish caught at that timestamp. Use whatever techniques you think are appropriate."
   ]
  },
  {
   "cell_type": "code",
   "execution_count": 1,
   "id": "4a3e531e",
   "metadata": {},
   "outputs": [],
   "source": [
    "import numpy as np\n",
    "import matplotlib.pyplot as plt\n",
    "%matplotlib inline"
   ]
  },
  {
   "cell_type": "markdown",
   "id": "8a74e5fc",
   "metadata": {},
   "source": [
    "### Make data"
   ]
  },
  {
   "cell_type": "code",
   "execution_count": 2,
   "id": "6e6d3c93",
   "metadata": {},
   "outputs": [],
   "source": [
    "def make_data():\n",
    "    t0 = 1649730445 # April 10, 2022, 2:27:25 GMT\n",
    "    N = 1000\n",
    "    T = np.random.uniform(t0, t0 + 365*24*3600, N)\n",
    "    Tday = T % (24*3600)\n",
    "    Tsin = np.sin(2*np.pi*Tday / (24*3600))\n",
    "    Tcos = np.cos(2*np.pi*Tday / (24*3600))\n",
    "    Tcos3 = np.cos(3*2*np.pi*Tday / (24*3600))\n",
    "\n",
    "    X = 50*Tsin + 620*Tcos + 121*Tcos3\n",
    "    X -= -100 + np.min(X)\n",
    "    X *= np.random.normal(1, 0.1, N)**2\n",
    "    X -= -123.4 + np.min(X)\n",
    "    return T, X"
   ]
  },
  {
   "cell_type": "markdown",
   "id": "2eeee837",
   "metadata": {},
   "source": [
    "### Your solution here"
   ]
  },
  {
   "cell_type": "code",
   "execution_count": 3,
   "id": "fcfee6ad",
   "metadata": {},
   "outputs": [],
   "source": [
    "T, X = make_data()"
   ]
  },
  {
   "cell_type": "code",
   "execution_count": null,
   "id": "85915dcc",
   "metadata": {},
   "outputs": [],
   "source": []
  },
  {
   "cell_type": "code",
   "execution_count": null,
   "id": "2a438300",
   "metadata": {},
   "outputs": [],
   "source": []
  }
 ],
 "metadata": {
  "kernelspec": {
   "display_name": "Python 3 (ipykernel)",
   "language": "python",
   "name": "python3"
  },
  "language_info": {
   "codemirror_mode": {
    "name": "ipython",
    "version": 3
   },
   "file_extension": ".py",
   "mimetype": "text/x-python",
   "name": "python",
   "nbconvert_exporter": "python",
   "pygments_lexer": "ipython3",
   "version": "3.9.12"
  }
 },
 "nbformat": 4,
 "nbformat_minor": 5
}
