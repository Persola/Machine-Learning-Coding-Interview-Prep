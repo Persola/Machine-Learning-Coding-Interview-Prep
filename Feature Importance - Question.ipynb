{
 "cells": [
  {
   "cell_type": "code",
   "execution_count": 61,
   "id": "a88cbbb4",
   "metadata": {},
   "outputs": [],
   "source": [
    "import numpy as np\n",
    "import matplotlib.pyplot as plt\n",
    "\n",
    "%matplotlib inline\n",
    "\n",
    "def make_data():\n",
    "    M, N = 1000, 100\n",
    "    means = np.random.uniform(-10, 10, N)\n",
    "    cov_sqrt = np.random.normal(0, 2, (N, N))\n",
    "    cov = cov_sqrt @ cov_sqrt.T\n",
    "    X = np.random.multivariate_normal(means, cov, M)\n",
    "    a = np.zeros(N)\n",
    "    a[np.random.randint(0, N, 3)] = np.random.uniform(10, 20, 3) *\\\n",
    "        np.array([-1, 1])[np.random.randint(0, 2, 3)]\n",
    "    Y = X @ a + np.random.normal(0, 0.1, M)\n",
    "    return X, Y"
   ]
  },
  {
   "cell_type": "code",
   "execution_count": 56,
   "id": "06ebef11",
   "metadata": {},
   "outputs": [],
   "source": [
    "X, Y, a = make_data()"
   ]
  },
  {
   "cell_type": "markdown",
   "id": "d13cb0fb",
   "metadata": {},
   "source": [
    "Y depends on a few of the features in X, but most features in X are irrelevant.\n",
    "* How do you define \"relevant\"?\n",
    "* How do you find the relevant features? Illustrate your method with code.\n",
    "* How will your method scale to more features, or more data points?"
   ]
  },
  {
   "cell_type": "code",
   "execution_count": null,
   "id": "1163d2ef",
   "metadata": {},
   "outputs": [],
   "source": []
  }
 ],
 "metadata": {
  "kernelspec": {
   "display_name": "Python 3 (ipykernel)",
   "language": "python",
   "name": "python3"
  },
  "language_info": {
   "codemirror_mode": {
    "name": "ipython",
    "version": 3
   },
   "file_extension": ".py",
   "mimetype": "text/x-python",
   "name": "python",
   "nbconvert_exporter": "python",
   "pygments_lexer": "ipython3",
   "version": "3.9.12"
  }
 },
 "nbformat": 4,
 "nbformat_minor": 5
}
